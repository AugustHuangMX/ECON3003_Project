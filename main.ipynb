{
 "cells": [
  {
   "cell_type": "markdown",
   "metadata": {},
   "source": [
    "# ECON3003 Econometrics II Project\n",
    "## Huang Minxing SC122481\n",
    "\n"
   ]
  },
  {
   "cell_type": "markdown",
   "metadata": {},
   "source": [
    "# Question 1\n",
    "Consider the wage equation:\n",
    "\n",
    "$\\text{logsal} = \\beta_1 + \\beta_2 \\text{logsalbegin} + \\beta_3 \\text{educ} + \\beta_4 \\text{gender} + \\beta_5 \\text{minority} + \\epsilon$\n",
    "\n",
    "Estimate the wage equation (1) by OLS for the sample of job categories 1 and 3 employees and interpret the estimated coefficients. This\n",
    "should include both the economic meaning of each of the slope coefficients and their individual significance."
   ]
  },
  {
   "cell_type": "code",
   "execution_count": 11,
   "metadata": {},
   "outputs": [],
   "source": [
    "import pandas as pd\n",
    "import matplotlib.pyplot as plt\n",
    "import statsmodels.api as sm\n",
    "import statsmodels.formula.api as smf\n",
    "from scipy import stats\n",
    "%matplotlib inline\n"
   ]
  },
  {
   "cell_type": "code",
   "execution_count": 7,
   "metadata": {},
   "outputs": [
    {
     "name": "stdout",
     "output_type": "stream",
     "text": [
      "                            OLS Regression Results                            \n",
      "==============================================================================\n",
      "Dep. Variable:                 logsal   R-squared:                       0.813\n",
      "Model:                            OLS   Adj. R-squared:                  0.812\n",
      "Method:                 Least Squares   F-statistic:                     481.4\n",
      "Date:                Sat, 05 Apr 2025   Prob (F-statistic):          1.50e-159\n",
      "Time:                        13:48:28   Log-Likelihood:                 141.18\n",
      "No. Observations:                 447   AIC:                            -272.4\n",
      "Df Residuals:                     442   BIC:                            -251.8\n",
      "Df Model:                           4                                         \n",
      "Covariance Type:            nonrobust                                         \n",
      "===============================================================================\n",
      "                  coef    std err          t      P>|t|      [0.025      0.975]\n",
      "-------------------------------------------------------------------------------\n",
      "Intercept       2.1336      0.323      6.600      0.000       1.498       2.769\n",
      "logsalbegin     0.8087      0.037     21.673      0.000       0.735       0.882\n",
      "educ            0.0291      0.004      6.688      0.000       0.021       0.038\n",
      "gender          0.0285      0.021      1.365      0.173      -0.013       0.070\n",
      "minority       -0.0540      0.022     -2.509      0.012      -0.096      -0.012\n",
      "==============================================================================\n",
      "Omnibus:                       40.918   Durbin-Watson:                   1.755\n",
      "Prob(Omnibus):                  0.000   Jarque-Bera (JB):               63.064\n",
      "Skew:                           0.625   Prob(JB):                     2.02e-14\n",
      "Kurtosis:                       4.351   Cond. No.                         659.\n",
      "==============================================================================\n",
      "\n",
      "Notes:\n",
      "[1] Standard Errors assume that the covariance matrix of the errors is correctly specified.\n"
     ]
    }
   ],
   "source": [
    "df = pd.read_csv('ECON3003_Project_Data.csv')\n",
    "df_filtered = df[df[\"jobcat\"].isin([1, 3])]\n",
    "\n",
    "model = smf.ols(\"logsal ~ logsalbegin + educ + gender + minority\", data=df_filtered).fit()\n",
    "\n",
    "print(model.summary())"
   ]
  },
  {
   "cell_type": "markdown",
   "metadata": {},
   "source": [
    "- The results show that the initial salary has a significant positive effect on current salary, with a coefficient of 0.8087. Economically speaking, this implies that a 1% increase in beginning salary is associated with an average 0.81% increase in current salary. \n",
    "- The **Education** also has a positive and significant effect on wages. An additional 1 year of education would increase salary by 2.9%. \n",
    "- The coefficient on **Gender** is positive, but not significant, since $p = 0.173$. This shows that we cannot conclude a gender wage gap exists in this subsample after controlling for other factors.\n",
    "- The coefficient on **Minority** is negative and significant at 5% level ($p = 0.012$). Minority employees earn about 5.4% less, on average, than non-minority employees, which may indicate discriminatory wage penalties against minority groups.\n",
    "\n"
   ]
  },
  {
   "cell_type": "markdown",
   "metadata": {},
   "source": [
    "# Question 2\n",
    "Test the null hypothesis $H_0: \\beta_3 = \\beta_4$ for the two job categories against the alternative $H_1: \\beta_3 \\neq \\beta_4$, using the F test, the likelihood ratio (LR) test, and the Lagrange Multiplier (LM) test."
   ]
  },
  {
   "cell_type": "code",
   "execution_count": 8,
   "metadata": {},
   "outputs": [],
   "source": [
    "# Unrestricted model\n",
    "df_filtered = df[df[\"jobcat\"].isin([1, 3])].copy()\n",
    "model_unrestricted = smf.ols(\"logsal ~ logsalbegin + educ + gender + minority\", data=df_filtered).fit()\n",
    "\n",
    "df_filtered[\"educ_plus_gender\"] = df_filtered[\"educ\"]+df_filtered[\"gender\"]\n",
    "\n",
    "# Restricted model\n",
    "model_restricted = smf.ols(\"logsal ~ logsalbegin + educ_plus_gender + minority\", data=df_filtered).fit()"
   ]
  },
  {
   "cell_type": "code",
   "execution_count": 9,
   "metadata": {},
   "outputs": [
    {
     "name": "stdout",
     "output_type": "stream",
     "text": [
      "== F-Test ==\n",
      "F-statistic: 0.0008, p-value: 0.9778\n"
     ]
    }
   ],
   "source": [
    "# F Test\n",
    "f_test = model_unrestricted.compare_f_test(model_restricted)\n",
    "\n",
    "print(\"== F-Test ==\")\n",
    "print(f\"F-statistic: {f_test[0]:.4f}, p-value: {f_test[1]:.4f}\")"
   ]
  },
  {
   "cell_type": "code",
   "execution_count": 12,
   "metadata": {},
   "outputs": [
    {
     "name": "stdout",
     "output_type": "stream",
     "text": [
      "\n",
      "== Likelihood Ratio (LR) Test ==\n",
      "LR statistic: 0.0008, p-value: 0.9776\n"
     ]
    }
   ],
   "source": [
    "# LR Test\n",
    "lr_stat = 2 * (model_unrestricted.llf - model_restricted.llf)\n",
    "\n",
    "# We use chi2 to compute the p-value, and df = 1 is because we are testing one restriction \n",
    "lr_pval = stats.chi2.sf(lr_stat, df=1)\n",
    "\n",
    "print(\"\\n== Likelihood Ratio (LR) Test ==\")\n",
    "print(f\"LR statistic: {lr_stat:.4f}, p-value: {lr_pval:.4f}\")\n"
   ]
  },
  {
   "cell_type": "code",
   "execution_count": 14,
   "metadata": {},
   "outputs": [
    {
     "name": "stdout",
     "output_type": "stream",
     "text": [
      "\n",
      "== Lagrange Multiplier (LM) Test ==\n",
      "LM statistic: 0.0001, p-value: 0.9903\n"
     ]
    }
   ],
   "source": [
    "# LM Test\n",
    "# We use tools from the statsmodels library to perform the LM test\n",
    "from statsmodels.stats.diagnostic import linear_lm\n",
    "\n",
    "# Build the restricted model\n",
    "resid = model_restricted.resid\n",
    "X_restricted = model_restricted.model.exog\n",
    "lm_test_stat = df_filtered.shape[0] * model_unrestricted.rsquared - df_filtered.shape[0] * model_restricted.rsquared\n",
    "lm_pval = stats.chi2.sf(lm_test_stat, df=1)\n",
    "\n",
    "print(\"\\n== Lagrange Multiplier (LM) Test ==\")\n",
    "print(f\"LM statistic: {lm_test_stat:.4f}, p-value: {lm_pval:.4f}\")"
   ]
  },
  {
   "cell_type": "code",
   "execution_count": 15,
   "metadata": {},
   "outputs": [
    {
     "name": "stdout",
     "output_type": "stream",
     "text": [
      "== F-Test ==\n",
      "F-statistic: 0.0008, p-value: 0.9778\n",
      "\n",
      "== Likelihood Ratio (LR) Test ==\n",
      "LR statistic: 0.0008, p-value: 0.9776\n",
      "\n",
      "== Lagrange Multiplier (LM) Test ==\n",
      "LM statistic: 0.0001, p-value: 0.9903\n"
     ]
    }
   ],
   "source": [
    "# In total, we have three tests: F-test, LR test, and LM test.\n",
    "print(\"== F-Test ==\")\n",
    "print(f\"F-statistic: {f_test[0]:.4f}, p-value: {f_test[1]:.4f}\")\n",
    "\n",
    "print(\"\\n== Likelihood Ratio (LR) Test ==\")\n",
    "print(f\"LR statistic: {lr_stat:.4f}, p-value: {lr_pval:.4f}\")\n",
    "\n",
    "print(\"\\n== Lagrange Multiplier (LM) Test ==\")\n",
    "print(f\"LM statistic: {lm_test_stat:.4f}, p-value: {lm_pval:.4f}\")"
   ]
  },
  {
   "cell_type": "markdown",
   "metadata": {},
   "source": [
    "To test the null hypothesis $H_0: \\beta_3 = \\beta_4$, which states that the effects of education and gender on log wages are equal, we employed the F test, Likelihood Ratio (LR) test, and Lagrange Multiplier (LM) test. Across all three tests, the p-values are very large (above 0.97), far exceeding the conventional significance level of 0.05. This means that we could not reject the null hypothesis. This suggests that there is **no statistically significant difference between the coefficients on education and gender** in explaining log wages in this sample. That is to say, the data does not provide evidence that these two variables have different marginal effects on wages."
   ]
  },
  {
   "cell_type": "markdown",
   "metadata": {},
   "source": [
    "# Question 3\n",
    "Perform a diagnostic test of heteroskedasticity for equation (1) across the two job categories using the Breusch-Pagan test. Report and comment on the test results."
   ]
  },
  {
   "cell_type": "code",
   "execution_count": 17,
   "metadata": {},
   "outputs": [
    {
     "name": "stdout",
     "output_type": "stream",
     "text": [
      "== Breusch-Pagan Test for Heteroskedasticity ==\n",
      "LM Statistic: 13.5191, p-value: 0.0090\n",
      "F Statistic: 3.4462, p-value: 0.0087\n"
     ]
    }
   ],
   "source": [
    "from statsmodels.stats.diagnostic import het_breuschpagan\n",
    "\n",
    "model = smf.ols(\"logsal ~ logsalbegin + educ + gender + minority\", data=df_filtered).fit()\n",
    "\n",
    "residuals = model.resid # We get the residuals from the fitted model\n",
    "exog = model.model.exog  # We get the exogenous variables from the fitted model\n",
    "\n",
    "# Breusch-Pagan test for heteroskedasticity\n",
    "bp_test = het_breuschpagan(residuals, exog)\n",
    "\n",
    "# The test returns four values:\n",
    "bp_stat = bp_test[0]        # LM statistic\n",
    "bp_pval = bp_test[1]        # p-value\n",
    "f_stat = bp_test[2]         # F statistic\n",
    "f_pval = bp_test[3]         # F p-value\n",
    "\n",
    "# Print the results\n",
    "print(\"== Breusch-Pagan Test for Heteroskedasticity ==\")\n",
    "print(f\"LM Statistic: {bp_stat:.4f}, p-value: {bp_pval:.4f}\")\n",
    "print(f\"F Statistic: {f_stat:.4f}, p-value: {f_pval:.4f}\")"
   ]
  },
  {
   "cell_type": "markdown",
   "metadata": {},
   "source": [
    "To assess whether the residuals from the baseline regression model exhibit heteroskedasticity, we conducted the **Breusch-Pagan test**.\n",
    "\n",
    "The test returned the following results:\n",
    "\n",
    "- **LM Statistic** = 13.5191, **p-value** = 0.0090  \n",
    "- **F Statistic** = 3.4462, **p-value** = 0.0087\n",
    "\n",
    "Since both p-values are less than 0.05, we **reject the null hypothesis of homoskedasticity** at the 5% significance level. This suggests that the variance of the error term is **not constant** across observations — in other words, **heteroskedasticity is present** in the model.\n",
    "\n",
    "As a result, standard OLS standard errors may be unreliable. It is suggested that we should report the **robust standard errors** (i.e., Whit's standard errors) to the presence of heteroskedasticity (Just what we need to do in **Question 4**)"
   ]
  },
  {
   "cell_type": "markdown",
   "metadata": {},
   "source": [
    "# Question 4\n",
    "If the Breusch-Pagan test in 3 gave evidence of heteroskedasticity, then re-esitmate equation (1) using standard errors that are robust to the presence of heteroskedasticity (i.e., White’s standard errors), and comment on the results. If the Breusch-Pagan test in 3 gave no or little evidence of heteroskedasticity, then skip this step."
   ]
  },
  {
   "cell_type": "code",
   "execution_count": 18,
   "metadata": {},
   "outputs": [
    {
     "name": "stdout",
     "output_type": "stream",
     "text": [
      "                            OLS Regression Results                            \n",
      "==============================================================================\n",
      "Dep. Variable:                 logsal   R-squared:                       0.813\n",
      "Model:                            OLS   Adj. R-squared:                  0.812\n",
      "Method:                 Least Squares   F-statistic:                     440.8\n",
      "Date:                Sat, 05 Apr 2025   Prob (F-statistic):          9.55e-153\n",
      "Time:                        14:40:00   Log-Likelihood:                 141.18\n",
      "No. Observations:                 447   AIC:                            -272.4\n",
      "Df Residuals:                     442   BIC:                            -251.8\n",
      "Df Model:                           4                                         \n",
      "Covariance Type:                  HC1                                         \n",
      "===============================================================================\n",
      "                  coef    std err          t      P>|t|      [0.025      0.975]\n",
      "-------------------------------------------------------------------------------\n",
      "Intercept       2.1336      0.330      6.461      0.000       1.485       2.783\n",
      "logsalbegin     0.8087      0.038     21.515      0.000       0.735       0.883\n",
      "educ            0.0291      0.004      7.212      0.000       0.021       0.037\n",
      "gender          0.0285      0.021      1.360      0.175      -0.013       0.070\n",
      "minority       -0.0540      0.019     -2.882      0.004      -0.091      -0.017\n",
      "==============================================================================\n",
      "Omnibus:                       40.918   Durbin-Watson:                   1.755\n",
      "Prob(Omnibus):                  0.000   Jarque-Bera (JB):               63.064\n",
      "Skew:                           0.625   Prob(JB):                     2.02e-14\n",
      "Kurtosis:                       4.351   Cond. No.                         659.\n",
      "==============================================================================\n",
      "\n",
      "Notes:\n",
      "[1] Standard Errors are heteroscedasticity robust (HC1)\n"
     ]
    }
   ],
   "source": [
    "# We set up the model again to show the heteroskedasticity-robust standard errors\n",
    "model = smf.ols(\"logsal ~ logsalbegin + educ + gender + minority\", data=df_filtered).fit()\n",
    "\n",
    "# Use White's correction for heteroskedasticity\n",
    "model_robust = model.get_robustcov_results(cov_type='HC1')\n",
    "\n",
    "# Show the summary with robust standard errors\n",
    "print(model_robust.summary())"
   ]
  },
  {
   "cell_type": "markdown",
   "metadata": {},
   "source": [
    "Since the Breusch-Pagan test indicated the presence of heteroskedasticity in the original model, we re-estimated equation (1) using **White's heteroskedasticity-robust standard errors (HC1)**.\n",
    "\n",
    "The coefficient estimates remain unchanged, as expected, because OLS is still unbiased. However, the **standard errors and p-values have changed**, which affects the statistical inference.\n",
    "\n",
    "- The variables **logsalbegin**, **educ**, and **minority** remain statistically significant at the 1% level.\n",
    "- The variable **gender**, however, is **not statistically significant** (p = 0.175), suggesting that gender does not have a robust effect on log wages once we account for heteroskedasticity.\n",
    "- The R-squared of the model remains high at **0.813**, indicating a good overall fit.\n",
    "\n",
    "Using robust standard errors ensures that our inference is valid despite the presence of heteroskedasticity, and highlights the importance of checking model assumptions when making conclusions."
   ]
  },
  {
   "cell_type": "markdown",
   "metadata": {},
   "source": [
    "# Question 5\n",
    "Use the dummy variable approach to test whether the wage equation is the same for job category 1 and job category 3."
   ]
  },
  {
   "cell_type": "code",
   "execution_count": null,
   "metadata": {},
   "outputs": [
    {
     "name": "stdout",
     "output_type": "stream",
     "text": [
      "== Chow Test via Dummy Variable Interaction ==\n",
      "F-statistic: 10.0637\n",
      "p-value: 0.0000\n",
      "Degrees of freedom: df_diff = 5.0\n"
     ]
    }
   ],
   "source": [
    "df_job13 = df[df['jobcat'].isin([1, 3])].copy()\n",
    "df_job13['jobcat3'] = (df_job13['jobcat'] == 3).astype(int)\n",
    "model_base = smf.ols(\"logsal ~ logsalbegin + educ + gender + minority\", data=df_job13).fit()\n",
    "\n",
    "model_interact = smf.ols(\n",
    "    \"logsal ~ logsalbegin * jobcat3 + educ * jobcat3 + gender * jobcat3 + minority * jobcat3\",\n",
    "    data=df_job13\n",
    ").fit()\n",
    "\n",
    "f_test_result = model_interact.compare_f_test(model_base)\n",
    "\n",
    "# Print the results of the Chow test\n",
    "print(\"== Chow Test via Dummy Variable Interaction ==\")\n",
    "print(f\"F-statistic: {f_test_result[0]:.4f}\")\n",
    "print(f\"p-value: {f_test_result[1]:.4f}\")\n",
    "print(f\"Degrees of freedom: df_diff = {f_test_result[2]}\")"
   ]
  },
  {
   "cell_type": "markdown",
   "metadata": {},
   "source": [
    "The method we use is basically the **Chow Test**.\n",
    "\n",
    "We constructed a pooled model that includes all individuals from job categories 1 and 3, and interacted a dummy variable for job category 3 with all explanatory variables in the wage equation.\n",
    "\n",
    "The F-test comparing the restricted model (no interactions) with the unrestricted model (with interactions) yielded the following result:\n",
    "\n",
    "- **F-statistic** = 10.0637  \n",
    "- **p-value** = 0.0000  \n",
    "- **Degrees of freedom (df_diff)** = 5\n",
    "\n",
    "Since the p-value is effectively zero, we **reject the null hypothesis** that the wage equations are the same across the two job categories. This provides strong statistical evidence that the wage determination process differs **significantly** between job category 1 and job category 3.\n",
    "\n",
    "Therefore, it is appropriate to model these two groups separately or allow for job-specific coefficients in the wage equation."
   ]
  }
 ],
 "metadata": {
  "kernelspec": {
   "display_name": "base",
   "language": "python",
   "name": "python3"
  },
  "language_info": {
   "codemirror_mode": {
    "name": "ipython",
    "version": 3
   },
   "file_extension": ".py",
   "mimetype": "text/x-python",
   "name": "python",
   "nbconvert_exporter": "python",
   "pygments_lexer": "ipython3",
   "version": "3.9.18"
  }
 },
 "nbformat": 4,
 "nbformat_minor": 2
}
